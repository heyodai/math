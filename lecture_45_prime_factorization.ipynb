{
  "nbformat": 4,
  "nbformat_minor": 0,
  "metadata": {
    "colab": {
      "name": "lecture_45_prime_factorization.ipynb",
      "provenance": [],
      "authorship_tag": "ABX9TyOz0HjZoZ6iTOG+ePj/Tg5Q",
      "include_colab_link": true
    },
    "kernelspec": {
      "name": "python3",
      "display_name": "Python 3"
    },
    "language_info": {
      "name": "python"
    }
  },
  "cells": [
    {
      "cell_type": "markdown",
      "metadata": {
        "id": "view-in-github",
        "colab_type": "text"
      },
      "source": [
        "<a href=\"https://colab.research.google.com/github/heyodai/colab/blob/main/lecture_45_prime_factorization.ipynb\" target=\"_parent\"><img src=\"https://colab.research.google.com/assets/colab-badge.svg\" alt=\"Open In Colab\"/></a>"
      ]
    },
    {
      "cell_type": "markdown",
      "source": [
        "To start, let's import libraries and setup a bool function."
      ],
      "metadata": {
        "id": "h_--QrlprW_o"
      }
    },
    {
      "cell_type": "code",
      "execution_count": 1,
      "metadata": {
        "id": "6qPiv9mNrQe6"
      },
      "outputs": [],
      "source": [
        "import sympy as sym\n",
        "\n",
        "def is_prime(dict):\n",
        "  return len(dict) == 1"
      ]
    },
    {
      "cell_type": "markdown",
      "source": [
        "Now let's loop through and test."
      ],
      "metadata": {
        "id": "nYTgHFUfrg0U"
      }
    },
    {
      "cell_type": "code",
      "source": [
        "MIN = 2\n",
        "MAX = 50\n",
        "\n",
        "for i in range(MIN, MAX+1):\n",
        "  factor_dict = sym.factorint(i)\n",
        "\n",
        "  if (is_prime(factor_dict)):\n",
        "    print(f'{i} is a prime number')\n",
        "\n",
        "  else:\n",
        "    factors = list(factor_dict.keys())\n",
        "    print(f'{i} is a composite number with prime factors {factors}')"
      ],
      "metadata": {
        "colab": {
          "base_uri": "https://localhost:8080/"
        },
        "id": "3naTl0rRri4o",
        "outputId": "0c2cfcfe-3dbb-4377-bef7-0455efeb2841"
      },
      "execution_count": 6,
      "outputs": [
        {
          "output_type": "stream",
          "name": "stdout",
          "text": [
            "2 is a prime number\n",
            "3 is a prime number\n",
            "4 is a prime number\n",
            "5 is a prime number\n",
            "6 is a composite number with prime factors [2, 3]\n",
            "7 is a prime number\n",
            "8 is a prime number\n",
            "9 is a prime number\n",
            "10 is a composite number with prime factors [2, 5]\n",
            "11 is a prime number\n",
            "12 is a composite number with prime factors [2, 3]\n",
            "13 is a prime number\n",
            "14 is a composite number with prime factors [2, 7]\n",
            "15 is a composite number with prime factors [3, 5]\n",
            "16 is a prime number\n",
            "17 is a prime number\n",
            "18 is a composite number with prime factors [2, 3]\n",
            "19 is a prime number\n",
            "20 is a composite number with prime factors [2, 5]\n",
            "21 is a composite number with prime factors [3, 7]\n",
            "22 is a composite number with prime factors [2, 11]\n",
            "23 is a prime number\n",
            "24 is a composite number with prime factors [2, 3]\n",
            "25 is a prime number\n",
            "26 is a composite number with prime factors [2, 13]\n",
            "27 is a prime number\n",
            "28 is a composite number with prime factors [2, 7]\n",
            "29 is a prime number\n",
            "30 is a composite number with prime factors [2, 3, 5]\n",
            "31 is a prime number\n",
            "32 is a prime number\n",
            "33 is a composite number with prime factors [3, 11]\n",
            "34 is a composite number with prime factors [2, 17]\n",
            "35 is a composite number with prime factors [5, 7]\n",
            "36 is a composite number with prime factors [2, 3]\n",
            "37 is a prime number\n",
            "38 is a composite number with prime factors [2, 19]\n",
            "39 is a composite number with prime factors [3, 13]\n",
            "40 is a composite number with prime factors [2, 5]\n",
            "41 is a prime number\n",
            "42 is a composite number with prime factors [2, 3, 7]\n",
            "43 is a prime number\n",
            "44 is a composite number with prime factors [2, 11]\n",
            "45 is a composite number with prime factors [3, 5]\n",
            "46 is a composite number with prime factors [2, 23]\n",
            "47 is a prime number\n",
            "48 is a composite number with prime factors [2, 3]\n",
            "49 is a prime number\n",
            "50 is a composite number with prime factors [2, 5]\n"
          ]
        }
      ]
    }
  ]
}