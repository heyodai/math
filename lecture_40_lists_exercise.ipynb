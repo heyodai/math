{
  "nbformat": 4,
  "nbformat_minor": 0,
  "metadata": {
    "colab": {
      "name": "lecture-40-lists-exercise.ipynb",
      "provenance": [],
      "authorship_tag": "ABX9TyMRpg/fONBjI5hNLL5aiwVB",
      "include_colab_link": true
    },
    "kernelspec": {
      "name": "python3",
      "display_name": "Python 3"
    },
    "language_info": {
      "name": "python"
    }
  },
  "cells": [
    {
      "cell_type": "markdown",
      "metadata": {
        "id": "view-in-github",
        "colab_type": "text"
      },
      "source": [
        "<a href=\"https://colab.research.google.com/github/heyodai/colab/blob/main/lecture_40_lists_exercise.ipynb\" target=\"_parent\"><img src=\"https://colab.research.google.com/assets/colab-badge.svg\" alt=\"Open In Colab\"/></a>"
      ]
    },
    {
      "cell_type": "code",
      "execution_count": 2,
      "metadata": {
        "id": "KNHmwD4DWxk0"
      },
      "outputs": [],
      "source": [
        "from IPython.display import display,Math\n",
        "from sympy.abc import x\n",
        "import sympy as sym"
      ]
    },
    {
      "cell_type": "markdown",
      "source": [
        "In this exercise, we want to create some expressions, expand them, and simplify them. We want to use `lists` and `for-loops` to do so.\n",
        "\n",
        "Let's start by defining the expressions and assigning them to a list."
      ],
      "metadata": {
        "id": "uX8q5IgSW-dN"
      }
    },
    {
      "cell_type": "code",
      "source": [
        "exp1 = 2*x + x*(4 - 6*x) + x\n",
        "exp2 = -x * (2/x + 4/x**2) + (4+x)/(4*x)\n",
        "exp3 = (x + 3)*(x - 3) * x * (1/(9*x))\n",
        "\n",
        "list = [exp1,exp2,exp3]\n",
        "list"
      ],
      "metadata": {
        "colab": {
          "base_uri": "https://localhost:8080/"
        },
        "id": "nh57LUfHXcn5",
        "outputId": "29dc867d-15c6-426a-f2c9-825bbe72a14c"
      },
      "execution_count": 3,
      "outputs": [
        {
          "output_type": "execute_result",
          "data": {
            "text/plain": [
              "[x*(4 - 6*x) + 3*x, -x*(2/x + 4/x**2) + (x + 4)/(4*x), (x - 3)*(x + 3)/9]"
            ]
          },
          "metadata": {},
          "execution_count": 3
        }
      ]
    },
    {
      "cell_type": "markdown",
      "source": [
        "Now let's loop through the list to build our output."
      ],
      "metadata": {
        "id": "J-8g53PoYPj9"
      }
    },
    {
      "cell_type": "code",
      "source": [
        "for i in list:\n",
        "  expanded = sym.expand(i)\n",
        "  simplified = sym.simplify(expanded)\n",
        "\n",
        "  expanded = sym.latex(expanded)\n",
        "  # simplified = sym.latex(simplified)\n",
        "\n",
        "  display(Math('%s \\\\Longleftrightarrow %s' %(sym.latex(i),expanded) ))"
      ],
      "metadata": {
        "colab": {
          "base_uri": "https://localhost:8080/",
          "height": 83
        },
        "id": "IincqeZUYTut",
        "outputId": "4659667b-325b-4bf9-a2cb-03ddca2a28a5"
      },
      "execution_count": 5,
      "outputs": [
        {
          "output_type": "display_data",
          "data": {
            "text/plain": [
              "<IPython.core.display.Math object>"
            ],
            "text/latex": "$$x \\left(4 - 6 x\\right) + 3 x \\Longleftrightarrow - 6 x^{2} + 7 x$$"
          },
          "metadata": {}
        },
        {
          "output_type": "display_data",
          "data": {
            "text/plain": [
              "<IPython.core.display.Math object>"
            ],
            "text/latex": "$$- x \\left(\\frac{2}{x} + \\frac{4}{x^{2}}\\right) + \\frac{x + 4}{4 x} \\Longleftrightarrow - \\frac{7}{4} - \\frac{3}{x}$$"
          },
          "metadata": {}
        },
        {
          "output_type": "display_data",
          "data": {
            "text/plain": [
              "<IPython.core.display.Math object>"
            ],
            "text/latex": "$$\\frac{\\left(x - 3\\right) \\left(x + 3\\right)}{9} \\Longleftrightarrow \\frac{x^{2}}{9} - 1$$"
          },
          "metadata": {}
        }
      ]
    }
  ]
}