{
  "nbformat": 4,
  "nbformat_minor": 0,
  "metadata": {
    "colab": {
      "name": "lecture-46-solving-inequalities.ipynb",
      "provenance": [],
      "authorship_tag": "ABX9TyPFqoshBvNPDT9e5hKzNyBK",
      "include_colab_link": true
    },
    "kernelspec": {
      "name": "python3",
      "display_name": "Python 3"
    },
    "language_info": {
      "name": "python"
    }
  },
  "cells": [
    {
      "cell_type": "markdown",
      "metadata": {
        "id": "view-in-github",
        "colab_type": "text"
      },
      "source": [
        "<a href=\"https://colab.research.google.com/github/heyodai/colab/blob/main/lecture_46_solving_inequalities.ipynb\" target=\"_parent\"><img src=\"https://colab.research.google.com/assets/colab-badge.svg\" alt=\"Open In Colab\"/></a>"
      ]
    },
    {
      "cell_type": "code",
      "execution_count": 4,
      "metadata": {
        "colab": {
          "base_uri": "https://localhost:8080/",
          "height": 51
        },
        "id": "pzcb-V-d1i_Y",
        "outputId": "3e4fe9d4-5a4d-40b9-f8da-9d7b6c279623"
      },
      "outputs": [
        {
          "output_type": "execute_result",
          "data": {
            "text/plain": [
              "(22/17 <= x) & (x < oo)"
            ],
            "text/latex": "$\\displaystyle \\frac{22}{17} \\leq x \\wedge x < \\infty$"
          },
          "metadata": {},
          "execution_count": 4
        }
      ],
      "source": [
        "import sympy as sym\n",
        "from sympy.abc import x\n",
        "\n",
        "expr = 3*x/2 + (4 - 5*x)/3 <= 2 - (5 * (2 - x))/4\n",
        "sym.solve(expr)"
      ]
    }
  ]
}