{
  "nbformat": 4,
  "nbformat_minor": 0,
  "metadata": {
    "colab": {
      "name": "lecture_37_numpy_matrix.ipynb",
      "provenance": [],
      "collapsed_sections": [],
      "authorship_tag": "ABX9TyNhNN314AFJNg+WytXYHQRi",
      "include_colab_link": true
    },
    "kernelspec": {
      "name": "python3",
      "display_name": "Python 3"
    },
    "language_info": {
      "name": "python"
    }
  },
  "cells": [
    {
      "cell_type": "markdown",
      "metadata": {
        "id": "view-in-github",
        "colab_type": "text"
      },
      "source": [
        "<a href=\"https://colab.research.google.com/github/heyodai/colab/blob/main/lecture_37_numpy_matrix.ipynb\" target=\"_parent\"><img src=\"https://colab.research.google.com/assets/colab-badge.svg\" alt=\"Open In Colab\"/></a>"
      ]
    },
    {
      "cell_type": "markdown",
      "source": [
        "This is the same exercise as [Lecture 36](https://github.com/heyodai/colab/blob/main/lecture_36_expanding_terms_exercise.ipynb), but we want to use `numpy` to organize the output in a matrix.\n",
        "\n",
        "Let's start by importing libraries."
      ],
      "metadata": {
        "id": "VLvy18vwJvyW"
      }
    },
    {
      "cell_type": "code",
      "execution_count": 1,
      "metadata": {
        "id": "9401FJQLJrEk"
      },
      "outputs": [],
      "source": [
        "# https://www.udemy.com/course/math-with-python/learn/lecture/16210370\n",
        "\n",
        "from IPython.display import display,Math\n",
        "import numpy as np\n",
        "import sympy as sym\n",
        "from sympy.abc import x,y"
      ]
    },
    {
      "cell_type": "markdown",
      "source": [
        "Then define the empty matrix and the algebraic function."
      ],
      "metadata": {
        "id": "Cwh_DCQfKMRM"
      }
    },
    {
      "cell_type": "code",
      "source": [
        "matr = np.zeros([3,3])\n",
        "\n",
        "def func(one,two):\n",
        "  expr = (4+x)*(2-y)\n",
        "  return expr.subs([(x,one),(y,two)])"
      ],
      "metadata": {
        "id": "YvgEU3NHKP0k"
      },
      "execution_count": 3,
      "outputs": []
    },
    {
      "cell_type": "markdown",
      "source": [
        "Now use a double for-loop to build the matrix."
      ],
      "metadata": {
        "id": "FuXyO9HWKRDX"
      }
    },
    {
      "cell_type": "code",
      "source": [
        "for i in range(0,3): # i = x\n",
        "  for j in range(0,3): # j = y\n",
        "    matr[i,j] = func(i,j)\n",
        "\n",
        "display(Math(sym.latex(sym.sympify(matr))))"
      ],
      "metadata": {
        "colab": {
          "base_uri": "https://localhost:8080/",
          "height": 78
        },
        "id": "THGk86f-KWHv",
        "outputId": "f7fba0e2-67e1-4b22-8fc7-f7ff4b6d3583"
      },
      "execution_count": 5,
      "outputs": [
        {
          "output_type": "display_data",
          "data": {
            "text/plain": [
              "<IPython.core.display.Math object>"
            ],
            "text/latex": "$$\\left[\\begin{matrix}8.0 & 4.0 & 0.0\\\\10.0 & 5.0 & 0.0\\\\12.0 & 6.0 & 0.0\\end{matrix}\\right]$$"
          },
          "metadata": {}
        }
      ]
    }
  ]
}