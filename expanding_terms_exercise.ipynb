{
  "nbformat": 4,
  "nbformat_minor": 0,
  "metadata": {
    "colab": {
      "name": "expanding-terms-exercise.ipynb",
      "provenance": [],
      "authorship_tag": "ABX9TyPqHrftEnT4fC+OOYzjm4py",
      "include_colab_link": true
    },
    "kernelspec": {
      "name": "python3",
      "display_name": "Python 3"
    },
    "language_info": {
      "name": "python"
    }
  },
  "cells": [
    {
      "cell_type": "markdown",
      "metadata": {
        "id": "view-in-github",
        "colab_type": "text"
      },
      "source": [
        "<a href=\"https://colab.research.google.com/github/heyodai/colab/blob/main/expanding_terms_exercise.ipynb\" target=\"_parent\"><img src=\"https://colab.research.google.com/assets/colab-badge.svg\" alt=\"Open In Colab\"/></a>"
      ]
    },
    {
      "cell_type": "code",
      "execution_count": 12,
      "metadata": {
        "colab": {
          "base_uri": "https://localhost:8080/",
          "height": 200
        },
        "id": "OoBONjsHAPgU",
        "outputId": "dde6d827-facc-4cc4-c2d3-abee952c8c68"
      },
      "outputs": [
        {
          "output_type": "display_data",
          "data": {
            "text/plain": [
              "<IPython.core.display.Math object>"
            ],
            "text/latex": "$$\\text{When x=} 0 \\text{ and y=} 0 \\text{, f(x,y)=} 8$$"
          },
          "metadata": {}
        },
        {
          "output_type": "display_data",
          "data": {
            "text/plain": [
              "<IPython.core.display.Math object>"
            ],
            "text/latex": "$$\\text{When x=} 0 \\text{ and y=} 1 \\text{, f(x,y)=} 4$$"
          },
          "metadata": {}
        },
        {
          "output_type": "display_data",
          "data": {
            "text/plain": [
              "<IPython.core.display.Math object>"
            ],
            "text/latex": "$$\\text{When x=} 0 \\text{ and y=} 2 \\text{, f(x,y)=} 0$$"
          },
          "metadata": {}
        },
        {
          "output_type": "display_data",
          "data": {
            "text/plain": [
              "<IPython.core.display.Math object>"
            ],
            "text/latex": "$$\\text{When x=} 1 \\text{ and y=} 0 \\text{, f(x,y)=} 10$$"
          },
          "metadata": {}
        },
        {
          "output_type": "display_data",
          "data": {
            "text/plain": [
              "<IPython.core.display.Math object>"
            ],
            "text/latex": "$$\\text{When x=} 1 \\text{ and y=} 1 \\text{, f(x,y)=} 5$$"
          },
          "metadata": {}
        },
        {
          "output_type": "display_data",
          "data": {
            "text/plain": [
              "<IPython.core.display.Math object>"
            ],
            "text/latex": "$$\\text{When x=} 1 \\text{ and y=} 2 \\text{, f(x,y)=} 0$$"
          },
          "metadata": {}
        },
        {
          "output_type": "display_data",
          "data": {
            "text/plain": [
              "<IPython.core.display.Math object>"
            ],
            "text/latex": "$$\\text{When x=} 2 \\text{ and y=} 0 \\text{, f(x,y)=} 12$$"
          },
          "metadata": {}
        },
        {
          "output_type": "display_data",
          "data": {
            "text/plain": [
              "<IPython.core.display.Math object>"
            ],
            "text/latex": "$$\\text{When x=} 2 \\text{ and y=} 1 \\text{, f(x,y)=} 6$$"
          },
          "metadata": {}
        },
        {
          "output_type": "display_data",
          "data": {
            "text/plain": [
              "<IPython.core.display.Math object>"
            ],
            "text/latex": "$$\\text{When x=} 2 \\text{ and y=} 2 \\text{, f(x,y)=} 0$$"
          },
          "metadata": {}
        }
      ],
      "source": [
        "# Lecture 36 - Expanding Terms\n",
        "# https://www.udemy.com/course/math-with-python/learn/lecture/16210368\n",
        "\n",
        "from IPython.display import display,Math\n",
        "import sympy as sym\n",
        "from sympy.abc import x,y\n",
        "\n",
        "def func(one,two):\n",
        "  expr = (4+x)*(2-y)\n",
        "  return expr.subs([(x,one),(y,two)])\n",
        "\n",
        "for i in range(0,3): # i = x\n",
        "  for j in range(0,3): # j = y\n",
        "    latex = Math('\\\\text{When x=} %i \\\\text{ and y=} %i \\\\text{, f(x,y)=} %i' %(i, j, func(i,j)))\n",
        "    display(latex)"
      ]
    }
  ]
}